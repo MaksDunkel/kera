{
  "nbformat": 4,
  "nbformat_minor": 0,
  "metadata": {
    "colab": {
      "name": "KeraBot.ipynb",
      "provenance": [],
      "collapsed_sections": [],
      "authorship_tag": "ABX9TyOK1fw9GYmpNzTyezNhGutm",
      "include_colab_link": true
    },
    "kernelspec": {
      "name": "python3",
      "display_name": "Python 3"
    },
    "language_info": {
      "name": "python"
    }
  },
  "cells": [
    {
      "cell_type": "markdown",
      "metadata": {
        "id": "view-in-github",
        "colab_type": "text"
      },
      "source": [
        "<a href=\"https://colab.research.google.com/github/MaksDunkel/kera/blob/main/KeraBot.ipynb\" target=\"_parent\"><img src=\"https://colab.research.google.com/assets/colab-badge.svg\" alt=\"Open In Colab\"/></a>"
      ]
    },
    {
      "cell_type": "code",
      "metadata": {
        "id": "SAeLIckRFbiY"
      },
      "source": [
        "#BOT init (установка библиотек для запуска бота запустить 1 раз за сессию)\n",
        "!pip install pyTelegramBotAPI\n",
        "import telebot\n",
        "import requests\n",
        " \n",
        " \n",
        "#bot run (запуск бота , можно запустить , остановить . что-то сделать и запустить снова)\n",
        " \n",
        "token = '1896318204:AAFmAm-A6xkAUKzemwMX7xsUz842aclSpzM'\n",
        "bot = telebot.TeleBot(str(token))\n",
        " \n",
        "#назначение переменным ссылок на загадки и ответ \n",
        "zagadka1 = 'https://wdho.ru/fdf65'\n",
        "zagadka2 = 'https://wdho.ru/b2dc4'\n",
        "zagadka3 = 'https://wdho.ru/4f106'\n",
        "otvet = 'https://wdho.ru/f5f72'\n",
        " \n",
        "#обработка команд start и help\n",
        "@bot.message_handler(commands=['start', 'help'])\n",
        "def send_welcome(message):\n",
        "  bot.send_message(message.chat.id, 'Бин, я помогу тебе найти Люцика, но я не знаю, где он сейчас, но помню, где он был !') \n",
        "  bot.send_message(message.chat.id, zagadka1) #отправка первой ссылки\n",
        " \n",
        " \n",
        "#обработка всех входящих текстовых сообщений, если бот в группе , то он видит только сообщения начинающиеся с \"/\", \n",
        "@bot.message_handler(content_types=['text'])\n",
        "def echo_all(message):\n",
        "  \n",
        "  if message.text == '/2376':   #вместо ответ1 - указать правильный ответ\n",
        "    #bot.send_message(message.chat.id, 'правильный ответ')\n",
        "    bot.send_message(message.chat.id, zagadka2)\n",
        "  \n",
        "  elif message.text == '/6427':\n",
        "    #bot.send_message(message.chat.id, 'правильный ответ. Загадка3 :')\n",
        "    bot.send_message(message.chat.id, zagadka3)\n",
        "  \n",
        "  elif message.text == '/127':\n",
        "    bot.send_message(message.chat.id, 'Увы,Люцик куда-то смылся ,оставив лишь этот след:')\n",
        "    bot.send_message(message.chat.id, otvet)\n",
        "  else:  #ответ на все остальные сообщения \n",
        "    bot.send_message(message.chat.id, 'Люцика тут не было , ищи лучше!!!')"
      ],
      "execution_count": null,
      "outputs": []
    }
  ]
}